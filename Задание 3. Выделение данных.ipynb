{
 "cells": [
  {
   "cell_type": "code",
   "execution_count": 2,
   "id": "0f65010c",
   "metadata": {},
   "outputs": [
    {
     "name": "stdout",
     "output_type": "stream",
     "text": [
      "     global_id   ID  Year  UnemployedMen  UnemployedWomen  UnemployedYoung  \\\n",
      "0     39809862    1  2001           8896            25762             6696   \n",
      "1     64592413    3  2003           8679            24967             6226   \n",
      "2     64592414    4  2004           9822            25239             7318   \n",
      "3     64592415    5  2005          10844            23597             6890   \n",
      "4     64592416    6  2006          11041            22928             6604   \n",
      "..         ...  ...   ...            ...              ...              ...   \n",
      "96   918869066  101  2019          13123            16904             3103   \n",
      "97   918869067  102  2019          13433            17164             3102   \n",
      "98   926094627  103  2019          13803            17319             3060   \n",
      "99   933200250  104  2019          12818            16221             2711   \n",
      "100  933200260  105  2019          12260            15769             2545   \n",
      "\n",
      "     UnemployedDisabled  UnemployedTotal   Period  Unnamed: 9  \n",
      "0                   824            34658  Декабрь         NaN  \n",
      "1                  1155            33646  Декабрь         NaN  \n",
      "2                  1411            35061  Декабрь         NaN  \n",
      "3                  1531            34441  Декабрь         NaN  \n",
      "4                  1671            33969  Декабрь         NaN  \n",
      "..                  ...              ...      ...         ...  \n",
      "96                  575            30027  Февраль         NaN  \n",
      "97                  593            30597     Март         NaN  \n",
      "98                  593            31122   Апрель         NaN  \n",
      "99                  577            29039      Май         NaN  \n",
      "100                 576            28029     Июнь         NaN  \n",
      "\n",
      "[101 rows x 10 columns]\n",
      "----------------------------------------------------------------------------------------------------------------\n",
      "С Int64Index([2018], dtype='int64', name='Year') года безработных людей с ограниченными возможностями меньше 2% в Москве\n"
     ]
    }
   ],
   "source": [
    "'''\n",
    "Задание 3. Выделение данных\n",
    "Получите данные по безработице в Москве:\n",
    "https://video.ittensive.com/python-advanced/data-9753-2019-07-25.utf.csv\n",
    "Найдите, с какого года процент людей с ограниченными возможностями (UnemployedDisabled) \n",
    "среди всех безработных (UnemployedTotal) стал меньше 2% в Москве.\n",
    "'''\n",
    "\n",
    "import pandas as pd # Импортирование библиотеки Pandas\n",
    "data = pd.read_csv(\"https://video.ittensive.com/python-advanced/data-9753-2019-07-25.utf.csv\", delimiter=\";\") \n",
    "# Загрузка csv-файла и разделение столбцов по \";\" в строках CSV-файла\n",
    "print (data) # Вывод данных Pandas из переменной data\n",
    "print (\"----------------------------------------------------------------------------------------------------------------\")\n",
    "# Вывод разделяющей строки для лучшего восприятия данных\n",
    "data[\"Percent_Disabled\"] = data.apply(lambda x: 100*x[6]/x[7], axis=1) \n",
    "# Создание отдельного столбца для внесения людей с ограниченными возможностями (UnemployedDisabled)\n",
    "# Применение к данным Pandas лямбда функции для вычисления в % кол-ва UnemployedDisabled: \\n\n",
    "# индексы столбцов \"UnemployedDisabled\" и \"UnemployedTotal\" разделить и умножить на 100, axis=1-применить вычисление «построчно» \n",
    "data = data[data[\"Percent_Disabled\"] < 2] # Фильтрация данных в созданном отдельном столбце, где значение меньше 2%\n",
    "data = data.set_index(\"Year\") # Назначение нового индекса по заданному столбцу \n",
    "data = data.sort_index() # Сортировка по назначенному индексу\n",
    "print (\"С\", data.index[0:1], \"года безработных людей с ограниченными возможностями меньше 2% в Москве\") # вывод результата\n",
    "# Извлечение первого значения индекса после сортировки"
   ]
  }
 ],
 "metadata": {
  "kernelspec": {
   "display_name": "Python 3 (ipykernel)",
   "language": "python",
   "name": "python3"
  },
  "language_info": {
   "codemirror_mode": {
    "name": "ipython",
    "version": 3
   },
   "file_extension": ".py",
   "mimetype": "text/x-python",
   "name": "python",
   "nbconvert_exporter": "python",
   "pygments_lexer": "ipython3",
   "version": "3.10.5"
  }
 },
 "nbformat": 4,
 "nbformat_minor": 5
}
